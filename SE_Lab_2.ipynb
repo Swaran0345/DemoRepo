{
  "nbformat": 4,
  "nbformat_minor": 0,
  "metadata": {
    "colab": {
      "provenance": [],
      "authorship_tag": "ABX9TyOFr0gMkxrr7wVyp/l98LfO",
      "include_colab_link": true
    },
    "kernelspec": {
      "name": "python3",
      "display_name": "Python 3"
    },
    "language_info": {
      "name": "python"
    }
  },
  "cells": [
    {
      "cell_type": "markdown",
      "metadata": {
        "id": "view-in-github",
        "colab_type": "text"
      },
      "source": [
        "<a href=\"https://colab.research.google.com/github/Swaran0345/DemoRepo/blob/main/SE_Lab_2.ipynb\" target=\"_parent\"><img src=\"https://colab.research.google.com/assets/colab-badge.svg\" alt=\"Open In Colab\"/></a>"
      ]
    },
    {
      "cell_type": "markdown",
      "source": [
        "SOFTWARE ENGINEERING LAB TASK 2 0345\n"
      ],
      "metadata": {
        "id": "TIsUaUFvLq_i"
      }
    },
    {
      "cell_type": "code",
      "execution_count": 7,
      "metadata": {
        "colab": {
          "base_uri": "https://localhost:8080/"
        },
        "id": "7tnlTnVnLXUO",
        "outputId": "381e5cd5-4032-4c82-df9b-eb016c5e6290"
      },
      "outputs": [
        {
          "output_type": "stream",
          "name": "stdout",
          "text": [
            "Student: Aamir, Marks: 85, Grade: A+\n"
          ]
        }
      ],
      "source": [
        "#version- 1 Hardcoded Variables\n",
        "student_name = \"Aamir\"\n",
        "student_marks = 85\n",
        "\n",
        "if student_marks >= 90:\n",
        "    grade = \"o\"\n",
        "elif student_marks >= 80:\n",
        "    grade = \"A+\"\n",
        "elif student_marks >= 70:\n",
        "    grade = \"A\"\n",
        "elif student_marks >= 60:\n",
        "    grade = \"B\"\n",
        "elif student_marks >= 50:\n",
        "    grade = \"C\"\n",
        "elif student_marks >= 40:\n",
        "    grade = \"D\"\n",
        "else:\n",
        "    grade = \"Fail\"\n",
        "\n",
        "print(f\"Student: {student_name}, Marks: {student_marks}, Grade: {grade}\")\n"
      ]
    },
    {
      "cell_type": "code",
      "source": [
        "# Version 2: Keyboard Input\n",
        "student_name = input(\"Enter the student's name: \")\n",
        "student_marks = int(input(\"Enter the student's marks: \"))\n",
        "\n",
        "if student_marks >= 90:\n",
        "    grade = \"o\"\n",
        "elif student_marks >= 80:\n",
        "    grade = \"A+\"\n",
        "elif student_marks >= 70:\n",
        "    grade = \"A\"\n",
        "elif student_marks >= 60:\n",
        "    grade = \"B\"\n",
        "elif student_marks >= 50:\n",
        "    grade = \"C\"\n",
        "elif student_marks >= 40:\n",
        "    grade = \"D\"\n",
        "else:\n",
        "    grade = \"Fail\"\n",
        "\n",
        "print(f\"Student: {student_name}, Marks: {student_marks}, Grade: {grade}\")\n"
      ],
      "metadata": {
        "colab": {
          "base_uri": "https://localhost:8080/"
        },
        "id": "3wXezUCYLwip",
        "outputId": "c9a2bac8-3b77-4073-bbae-2048a784acf4"
      },
      "execution_count": 2,
      "outputs": [
        {
          "output_type": "stream",
          "name": "stdout",
          "text": [
            "Enter the student's name: Swaran\n",
            "Enter the student's marks: 97\n",
            "Student: Swaran, Marks: 97, Grade: A\n"
          ]
        }
      ]
    },
    {
      "cell_type": "code",
      "source": [
        "# Version 3: Read from a File (Single Input)\n",
        "try:\n",
        "\n",
        "    with open(\"input1.txt\", \"r\") as file:\n",
        "        data = file.readline().strip().split(\",\")\n",
        "        student_name = data[0]\n",
        "        student_marks = int(data[1])\n",
        "\n",
        "\n",
        "        if student_marks >= 90:\n",
        "            grade = \"A\"\n",
        "        elif student_marks >= 80:\n",
        "            grade = \"B\"\n",
        "        elif student_marks >= 70:\n",
        "            grade = \"C\"\n",
        "        elif student_marks >= 60:\n",
        "            grade = \"D\"\n",
        "        else:\n",
        "            grade = \"Fail\"\n",
        "\n",
        "        print(f\"Student: {student_name}, Marks: {student_marks}, Grade: {grade}\")\n",
        "\n",
        "except FileNotFoundError:\n",
        "    print(\"Error: The file 'single_input.txt' was not found.\")\n",
        "except ValueError:\n",
        "    print(\"Error: The file contains invalid data. Please check the format (e.g., 'Name,Marks').\")\n",
        "except Exception as e:\n",
        "    print(f\"An unexpected error occurred: {e}\")\n",
        "\n"
      ],
      "metadata": {
        "colab": {
          "base_uri": "https://localhost:8080/"
        },
        "id": "c7kijN4_MTKJ",
        "outputId": "01a10b33-0680-4be6-aec1-36f50027401d"
      },
      "execution_count": 8,
      "outputs": [
        {
          "output_type": "stream",
          "name": "stdout",
          "text": [
            "Student: Mahesh , Marks: 29, Grade: Fail\n"
          ]
        }
      ]
    },
    {
      "cell_type": "code",
      "source": [
        "# Version 4: Read from a File (Multiple Inputs)\n",
        "try:\n",
        "\n",
        "    with open(\"multipleinputs.txt\", \"r\") as file:\n",
        "        for line in file:\n",
        "            try:\n",
        "\n",
        "                data = line.strip().split(\",\")\n",
        "                if len(data) != 2:\n",
        "                    raise ValueError(f\"Line format is incorrect: {line.strip()}\")\n",
        "\n",
        "                student_name = data[0]\n",
        "                student_marks = int(data[1])\n",
        "\n",
        "\n",
        "                if student_marks >= 90:\n",
        "                    grade = \"A\"\n",
        "                elif student_marks >= 80:\n",
        "                    grade = \"B\"\n",
        "                elif student_marks >= 70:\n",
        "                    grade = \"C\"\n",
        "                elif student_marks >= 60:\n",
        "                    grade = \"D\"\n",
        "                else:\n",
        "                    grade = \"Fail\"\n",
        "\n",
        "\n",
        "                print(f\"Student: {student_name}, Marks: {student_marks}, Grade: {grade}\")\n",
        "\n",
        "            except ValueError:\n",
        "                print(f\"Error: Invalid data format in line: '{line.strip()}'. Skipping this entry.\")\n",
        "except FileNotFoundError:\n",
        "    print(\"Error: The file 'multipleinputs.txt' was not found.\")\n",
        "except Exception as e:\n",
        "    print(f\"An unexpected error occurred: {e}\")\n",
        "\n"
      ],
      "metadata": {
        "colab": {
          "base_uri": "https://localhost:8080/"
        },
        "id": "GLC0_B7aNOCl",
        "outputId": "d2886bbb-9ff7-41c4-9d4e-304246dbb92d"
      },
      "execution_count": 9,
      "outputs": [
        {
          "output_type": "stream",
          "name": "stdout",
          "text": [
            "Student: Swaran , Marks: 97, Grade: A\n",
            "Student: Arjun , Marks: 100, Grade: A\n",
            "Student: Naveen , Marks: 79, Grade: C\n"
          ]
        }
      ]
    }
  ]
}