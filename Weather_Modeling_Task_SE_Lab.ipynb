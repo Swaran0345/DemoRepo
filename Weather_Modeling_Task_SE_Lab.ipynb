{
  "nbformat": 4,
  "nbformat_minor": 0,
  "metadata": {
    "colab": {
      "provenance": [],
      "authorship_tag": "ABX9TyM8phxNiL72Zwz9OKkIP0kE",
      "include_colab_link": true
    },
    "kernelspec": {
      "name": "python3",
      "display_name": "Python 3"
    },
    "language_info": {
      "name": "python"
    }
  },
  "cells": [
    {
      "cell_type": "markdown",
      "metadata": {
        "id": "view-in-github",
        "colab_type": "text"
      },
      "source": [
        "<a href=\"https://colab.research.google.com/github/Swaran0345/DemoRepo/blob/main/Weather_Modeling_Task_SE_Lab.ipynb\" target=\"_parent\"><img src=\"https://colab.research.google.com/assets/colab-badge.svg\" alt=\"Open In Colab\"/></a>"
      ]
    },
    {
      "cell_type": "markdown",
      "source": [
        "WEATHER MODELLING TASK\n",
        "\n",
        "R. SAI SWARAN REDDY HU22CSEN0100345"
      ],
      "metadata": {
        "id": "zJ_9QYGVTiAU"
      }
    },
    {
      "cell_type": "markdown",
      "source": [
        "1. HARDCODED VARIABLES\n"
      ],
      "metadata": {
        "id": "IjEJH9BBT0qj"
      }
    },
    {
      "cell_type": "code",
      "execution_count": null,
      "metadata": {
        "colab": {
          "base_uri": "https://localhost:8080/"
        },
        "id": "nhjfrL6KSaTN",
        "outputId": "e070e532-9e5f-45c4-f107-b7912160fbb6"
      },
      "outputs": [
        {
          "output_type": "stream",
          "name": "stdout",
          "text": [
            "At time 5 hours, the modeled temperature is 27.00°C\n"
          ]
        }
      ],
      "source": [
        "import math\n",
        "\n",
        "# Coefficients of the quadratic equation for modeling temperature T(t) = a*t² + b*t + c\n",
        "a = -0.02\n",
        "b = 1.5\n",
        "c = 20\n",
        "\n",
        "# Time for which we want to predict temperature\n",
        "time = 5\n",
        "\n",
        "# Temperature at the given time using the quadratic equation\n",
        "temperature = a * (time**2) + b * time + c\n",
        "\n",
        "print(f\"At time {time} hours, the modeled temperature is {temperature:.2f}°C\")\n"
      ]
    },
    {
      "cell_type": "markdown",
      "source": [
        "2. KEYBOARD INPUT"
      ],
      "metadata": {
        "id": "1LRpy15RUoCA"
      }
    },
    {
      "cell_type": "code",
      "source": [
        "import math\n",
        "\n",
        "# Taking input for the quadratic equation coefficients\n",
        "a = float(input(\"Enter the coefficient for time² (a): \"))\n",
        "b = float(input(\"Enter the coefficient for time (b): \"))\n",
        "c = float(input(\"Enter the constant term (c): \"))\n",
        "\n",
        "# Input the time to predict the temperature\n",
        "time = float(input(\"Enter the time (in hours): \"))\n",
        "\n",
        "# Calculating the temperature at the given time\n",
        "temperature = a * (time**2) + b * time + c\n",
        "\n",
        "print(f\"At time {time} hours, the modeled temperature is {temperature:.2f}°C\")\n"
      ],
      "metadata": {
        "colab": {
          "base_uri": "https://localhost:8080/"
        },
        "id": "G8QRjscZThHN",
        "outputId": "f2be5639-678c-46e2-de46-4e85c007dafd"
      },
      "execution_count": null,
      "outputs": [
        {
          "output_type": "stream",
          "name": "stdout",
          "text": [
            "Enter the coefficient for time² (a): 1\n",
            "Enter the coefficient for time (b): 2\n",
            "Enter the constant term (c): 3\n",
            "Enter the time (in hours): 4\n",
            "At time 4.0 hours, the modeled temperature is 27.00°C\n"
          ]
        }
      ]
    },
    {
      "cell_type": "markdown",
      "source": [
        "3. READING INPUT FROM FILE (SINGLE INPUT)"
      ],
      "metadata": {
        "id": "W6K6mREqVELP"
      }
    },
    {
      "cell_type": "code",
      "source": [
        "import math\n",
        "\n",
        "# Reading coefficients and time from a file\n",
        "with open(\"single_input.txt\", \"r\") as file:\n",
        "    data = file.readline().strip().split(\",\")\n",
        "    a = float(data[0])\n",
        "    b = float(data[1])\n",
        "    c = float(data[2])\n",
        "    time = float(data[3])\n",
        "\n",
        "# Calculating the temperature\n",
        "temperature = a * (time**2) + b * time + c\n",
        "\n",
        "print(f\"At time {time} hours, the modeled temperature is {temperature:.2f}°C\")\n"
      ],
      "metadata": {
        "id": "1oejsYQVVBOC",
        "colab": {
          "base_uri": "https://localhost:8080/"
        },
        "outputId": "ab617ff5-6c7a-4ea8-aef1-d98523009f52"
      },
      "execution_count": 3,
      "outputs": [
        {
          "output_type": "stream",
          "name": "stdout",
          "text": [
            "At time 5.0 hours, the modeled temperature is 27.00°C\n"
          ]
        }
      ]
    },
    {
      "cell_type": "markdown",
      "source": [
        "4.READING INPUT FROM FILE (MULTIPLE INPUTS)"
      ],
      "metadata": {
        "id": "jwjvDeW5WPC2"
      }
    },
    {
      "cell_type": "code",
      "source": [
        "import math\n",
        "\n",
        "# Reading multiple sets of coefficients and times from a file\n",
        "with open(\"multiple_inputs.txt\", \"r\") as file:\n",
        "    for line in file:\n",
        "        data = line.strip().split(\",\")  # Split each line by comma\n",
        "        a = float(data[0])\n",
        "        b = float(data[1])\n",
        "        c = float(data[2])\n",
        "        time = float(data[3])\n",
        "\n",
        "        # Calculating the temperature\n",
        "        temperature = a * (time**2) + b * time + c\n",
        "\n",
        "\n",
        "        print(f\"At time {time} hours, the modeled temperature is {temperature:.2f}°C\")\n"
      ],
      "metadata": {
        "colab": {
          "base_uri": "https://localhost:8080/"
        },
        "id": "Py-pKZ9KWOWR",
        "outputId": "3bb2ccba-d7c5-4bd9-9425-dc49eaaf29ec"
      },
      "execution_count": 4,
      "outputs": [
        {
          "output_type": "stream",
          "name": "stdout",
          "text": [
            "At time 5.0 hours, the modeled temperature is 27.00°C\n",
            "At time 8.0 hours, the modeled temperature is 31.76°C\n",
            "At time 3.0 hours, the modeled temperature is 21.58°C\n"
          ]
        }
      ]
    }
  ]
}